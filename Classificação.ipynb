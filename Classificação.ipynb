{
  "nbformat": 4,
  "nbformat_minor": 0,
  "metadata": {
    "colab": {
      "provenance": []
    },
    "kernelspec": {
      "name": "python3",
      "display_name": "Python 3"
    },
    "language_info": {
      "name": "python"
    }
  },
  "cells": [
    {
      "cell_type": "markdown",
      "source": [
        "# Classificação: Primeiros passos"
      ],
      "metadata": {
        "id": "MJ3tSbLsBPhe"
      }
    },
    {
      "cell_type": "markdown",
      "source": [
        "Neste projeto, iremos analisar dados de uma campanha de marketing para aderência de investimentos. O intuito é usar as informações dos dados para prever se os clientes de um banco vão aplicar o dinheiro em um investimento ou não.\n",
        "\n",
        "Essa previsão será feita utilizando machine learning e este notebook vai conter os passos para se obter um modelo capaz de realizar as previsões, desde a **leitura**, **análise exploratória**, **separação** e **transformação** dos dados, até o **ajuste**, **avaliação** e **comparação** de modelos de classificação."
      ],
      "metadata": {
        "id": "CYC5vst2FcaG"
      }
    },
    {
      "cell_type": "markdown",
      "source": [
        "# Análise exploratória"
      ],
      "metadata": {
        "id": "dr9I9xCXoICN"
      }
    },
    {
      "cell_type": "markdown",
      "source": [
        "## Fazendo a leitura dos dados"
      ],
      "metadata": {
        "id": "fwuPpdZOBTUn"
      }
    },
    {
      "cell_type": "markdown",
      "source": [
        "Podemos realizar a leitura dos dados a partir da biblioteca `pandas`. Por conta disso, vamos realizar a importação da biblioteca com o comando `import pandas as pd`.\n",
        "\n",
        "Como o arquivo de dados está no formato *csv*, vamos realizar a leitura com a função [`read_csv()`](https://pandas.pydata.org/docs/reference/api/pandas.read_csv.html)."
      ],
      "metadata": {
        "id": "YzOu8ojHPemt"
      }
    },
    {
      "cell_type": "code",
      "execution_count": null,
      "metadata": {
        "id": "nPrDJYBKZbKW"
      },
      "outputs": [],
      "source": []
    },
    {
      "cell_type": "code",
      "source": [],
      "metadata": {
        "id": "9h4YUPxyZuLf"
      },
      "execution_count": null,
      "outputs": []
    },
    {
      "cell_type": "code",
      "source": [],
      "metadata": {
        "id": "4uQHVCGlZxkL"
      },
      "execution_count": null,
      "outputs": []
    },
    {
      "cell_type": "markdown",
      "source": [
        "Para criar modelos de classificação, precisamos utilizar dados de qualidade, sem inconsistências e sem dados faltantes. Vamos checar se existem dados nulos e o tipo dos dados de cada coluna na base de dados a partir do método [`info()`](https://pandas.pydata.org/docs/reference/api/pandas.DataFrame.info.html)."
      ],
      "metadata": {
        "id": "y5VuhIoQQC51"
      }
    },
    {
      "cell_type": "code",
      "source": [],
      "metadata": {
        "id": "p1ylujcUmSGW"
      },
      "execution_count": null,
      "outputs": []
    },
    {
      "cell_type": "markdown",
      "source": [
        "## Explorando os dados"
      ],
      "metadata": {
        "id": "sgiS9acdmOQn"
      }
    },
    {
      "cell_type": "markdown",
      "source": [
        "Uma etapa muito importante em projetos de machine learning é a exploração e entendimento dos dados, conhecida como **análise exploratória**. Podemos utilizar gráficos para verificar quais são as informações em cada uma das colunas da base de dados, identificar inconsistências e padrões que possam existir.\n",
        "\n",
        "Vamos explorar cada uma das colunas da base de dados com o uso da biblioteca `plotly`. Vamos começar pelas variáveis categóricas e depois explorar as variáveis numéricas."
      ],
      "metadata": {
        "id": "rMyhhPIMQnWt"
      }
    },
    {
      "cell_type": "markdown",
      "source": [
        "### Variáveis categóricas"
      ],
      "metadata": {
        "id": "I6m3meBiMLk8"
      }
    },
    {
      "cell_type": "code",
      "source": [],
      "metadata": {
        "id": "B_Tgi_SvmSEO"
      },
      "execution_count": null,
      "outputs": []
    },
    {
      "cell_type": "code",
      "source": [],
      "metadata": {
        "id": "pjd2NCstMNO0"
      },
      "execution_count": null,
      "outputs": []
    },
    {
      "cell_type": "code",
      "source": [],
      "metadata": {
        "id": "9RV6oNcKM4Or"
      },
      "execution_count": null,
      "outputs": []
    },
    {
      "cell_type": "code",
      "source": [],
      "metadata": {
        "id": "m0vQk98COlUD"
      },
      "execution_count": null,
      "outputs": []
    },
    {
      "cell_type": "code",
      "source": [],
      "metadata": {
        "id": "o8vsBt7nOrsS"
      },
      "execution_count": null,
      "outputs": []
    },
    {
      "cell_type": "code",
      "source": [],
      "metadata": {
        "id": "JA6nHFFKOyd6"
      },
      "execution_count": null,
      "outputs": []
    },
    {
      "cell_type": "markdown",
      "source": [
        "### Variáveis numéricas"
      ],
      "metadata": {
        "id": "k9-qL8BEMH23"
      }
    },
    {
      "cell_type": "code",
      "source": [],
      "metadata": {
        "id": "QBOb6iNNmSBv"
      },
      "execution_count": null,
      "outputs": []
    },
    {
      "cell_type": "code",
      "source": [],
      "metadata": {
        "id": "iDvtaHt4iuRb"
      },
      "execution_count": null,
      "outputs": []
    },
    {
      "cell_type": "code",
      "source": [],
      "metadata": {
        "id": "Uj_M2BP-i84C"
      },
      "execution_count": null,
      "outputs": []
    },
    {
      "cell_type": "code",
      "source": [],
      "metadata": {
        "id": "JB5JxZkDjG78"
      },
      "execution_count": null,
      "outputs": []
    }
  ]
}